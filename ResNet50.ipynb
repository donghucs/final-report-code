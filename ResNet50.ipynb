{
  "nbformat": 4,
  "nbformat_minor": 0,
  "metadata": {
    "colab": {
      "name": "Untitled0.ipynb",
      "provenance": [],
      "authorship_tag": "ABX9TyNOcCqHnR1/5qxOcPJWiI+B",
      "include_colab_link": true
    },
    "kernelspec": {
      "name": "python3",
      "display_name": "Python 3"
    },
    "language_info": {
      "name": "python"
    }
  },
  "cells": [
    {
      "cell_type": "markdown",
      "metadata": {
        "id": "view-in-github",
        "colab_type": "text"
      },
      "source": [
        "<a href=\"https://colab.research.google.com/github/donghucs/final-report-code/blob/main/ResNet50.ipynb\" target=\"_parent\"><img src=\"https://colab.research.google.com/assets/colab-badge.svg\" alt=\"Open In Colab\"/></a>"
      ]
    },
    {
      "cell_type": "code",
      "execution_count": null,
      "metadata": {
        "id": "-mbsBJEyU3k7"
      },
      "outputs": [],
      "source": [
        "import torch\n",
        "from torch.utils.tensorboard.summary import image\n",
        "import torchvision\n",
        "import torch.nn.functional as F\n",
        "import torch.nn as nn\n",
        "import torchvision.transforms as transforms\n",
        "import torch.optim as optim\n",
        "\n",
        "\n",
        "from torch.utils.tensorboard import SummaryWriter\n",
        "myWriter = SummaryWriter('./tensorboard/log/')\n",
        "\n",
        "\n",
        "\n",
        "myTransforms = transforms.Compose([\n",
        "    transforms.Resize((224, 224)),\n",
        "    transforms.RandomHorizontalFlip(p=0.5),\n",
        "    transforms.ToTensor(),\n",
        "    transforms.Normalize((0.485, 0.456, 0.406), (0.229, 0.224, 0.225))])\n",
        "\n",
        "\n",
        "#  load\n",
        "train_dataset = torchvision.datasets.CIFAR10(root='./cifar-10-python/', train=True, download=True, transform=myTransforms)\n",
        "train_loader = torch.utils.data.DataLoader(train_dataset, batch_size=64, shuffle=True, num_workers=0)\n",
        "\n",
        "test_dataset = torchvision.datasets.CIFAR10(root='./cifar-10-python/', train=False, download=True, transform=myTransforms)\n",
        "test_loader = torch.utils.data.DataLoader(test_dataset, batch_size=4, shuffle=True, num_workers=0)\n",
        "\n",
        "\n",
        "\n",
        "# 定义模型\n",
        "myModel = torchvision.models.resnet50(pretrained=True)\n",
        "# 将原来的ResNet18的最后两层全连接层拿掉,替换成一个输出单元为10的全连接层\n",
        "inchannel = myModel.fc.in_features\n",
        "myModel.fc = nn.Linear(inchannel, 10)\n",
        "\n",
        "# 损失函数及优化器\n",
        "# GPU加速\n",
        "myDevice = torch.device(\"cuda:0\" if torch.cuda.is_available() else \"cpu\")\n",
        "myModel = myModel.to(myDevice)\n",
        "\n",
        "\n",
        "learning_rate=0.001\n",
        "myOptimzier = optim.SGD(myModel.parameters(), lr = learning_rate, momentum=0.9)\n",
        "myLoss = torch.nn.CrossEntropyLoss()\n",
        "\n",
        "for _epoch in range(10):\n",
        "    training_loss = 0.0\n",
        "    for _step, input_data in enumerate(train_loader):\n",
        "        image, label = input_data[0].to(myDevice), input_data[1].to(myDevice)   # GPU加速\n",
        "        predict_label = myModel.forward(image)\n",
        "       \n",
        "        loss = myLoss(predict_label, label)\n",
        "\n",
        "        myWriter.add_scalar('training loss', loss, global_step = _epoch*len(train_loader) + _step)\n",
        "\n",
        "        myOptimzier.zero_grad()\n",
        "        loss.backward()\n",
        "        myOptimzier.step()\n",
        "\n",
        "        training_loss = training_loss + loss.item()\n",
        "        if _step % 10 == 0 :\n",
        "            print('[iteration - %3d] training loss: %.3f' % (_epoch*len(train_loader) + _step, training_loss/10))\n",
        "            training_loss = 0.0\n",
        "            print()\n",
        "    correct = 0\n",
        "    total = 0\n",
        "    #torch.save(myModel, 'Resnet50_Own.pkl') # 保存整个模型\n",
        "    myModel.eval()\n",
        "    for images,labels in test_loader:\n",
        "        # GPU加速\n",
        "        images = images.to(myDevice)\n",
        "        labels = labels.to(myDevice)     \n",
        "        outputs = myModel(images)  \n",
        "        numbers,predicted = torch.max(outputs.data,1)\n",
        "        total += labels.size(0)\n",
        "        correct += (predicted==labels).sum().item()\n",
        "\n",
        "    print('Testing Accuracy : %.3f %%' % ( 100 * correct / total))\n",
        "    myWriter.add_scalar('test_Accuracy',100 * correct / total)\n"
      ]
    }
  ]
}